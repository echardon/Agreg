{
 "cells": [
  {
   "cell_type": "code",
   "execution_count": 1,
   "id": "3e0b7fd1",
   "metadata": {},
   "outputs": [],
   "source": [
    "import numpy as np\n",
    "\n",
    "import numpy.random as npr\n",
    "\n",
    "\n",
    "import matplotlib.pyplot as plt\n",
    "\n",
    "from scipy.optimize import curve_fit"
   ]
  },
  {
   "cell_type": "code",
   "execution_count": 2,
   "id": "2773ecee",
   "metadata": {},
   "outputs": [
    {
     "data": {
      "text/plain": [
       "[<matplotlib.lines.Line2D at 0x27572636a90>]"
      ]
     },
     "execution_count": 2,
     "metadata": {},
     "output_type": "execute_result"
    },
    {
     "data": {
      "image/png": "[encoded data removed]",
      "text/plain": [
       "<Figure size 432x288 with 1 Axes>"
      ]
     },
     "metadata": {
      "needs_background": "light"
     },
     "output_type": "display_data"
    }
   ],
   "source": [
    "#Données\n",
    "\n",
    "D = 3.84*10**-3\n",
    "L = 1.525\n",
    "rho = 1.1*10**3\n",
    "g = 9.81\n",
    "\n",
    "h = np.array([13.5, 12.3, 10.6, 9.5, 8, 7.2])*10**-2\n",
    "m = np.array([400, 400, 301, 321, 310, 320])-20\n",
    "t = np.array([98, 109, 93, 112, 130, 152])\n",
    "\n",
    "Qv = m/(rho*t)\n",
    "\n",
    "plt.plot(h, Qv , 'r+')"
   ]
  },
  {
   "cell_type": "code",
   "execution_count": 3,
   "id": "b4f53ab4",
   "metadata": {},
   "outputs": [
    {
     "name": "stdout",
     "output_type": "stream",
     "text": [
      "[2.12423942e-05]\n"
     ]
    }
   ],
   "source": [
    "\n",
    "def f_lin(x,a):\n",
    "    return a*x\n",
    "\n",
    "pop, covop = curve_fit(f_lin, t, Qv)\n",
    "\n",
    "print (pop)\n"
   ]
  },
  {
   "cell_type": "code",
   "execution_count": 4,
   "id": "0efede7c",
   "metadata": {},
   "outputs": [
    {
     "data": {
      "text/plain": [
       "0.001777678360913713"
      ]
     },
     "execution_count": 4,
     "metadata": {},
     "output_type": "execute_result"
    }
   ],
   "source": [
    "eta = np.pi * D**4 * rho * g /(128 * pop[0] * L)\n",
    "eta"
   ]
  },
  {
   "cell_type": "code",
   "execution_count": null,
   "id": "765888f7",
   "metadata": {},
   "outputs": [],
   "source": []
  }
 ],
 "metadata": {
  "kernelspec": {
   "display_name": "Python 3 (ipykernel)",
   "language": "python",
   "name": "python3"
  },
  "language_info": {
   "codemirror_mode": {
    "name": "ipython",
    "version": 3
   },
   "file_extension": ".py",
   "mimetype": "text/x-python",
   "name": "python",
   "nbconvert_exporter": "python",
   "pygments_lexer": "ipython3",
   "version": "3.9.12"
  }
 },
 "nbformat": 4,
 "nbformat_minor": 5
}
