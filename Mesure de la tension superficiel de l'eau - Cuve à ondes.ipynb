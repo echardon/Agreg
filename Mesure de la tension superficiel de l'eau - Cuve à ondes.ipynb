{
 "cells": [
  {
   "cell_type": "code",
   "execution_count": 1,
   "id": "c1834c68",
   "metadata": {},
   "outputs": [],
   "source": [
    "import numpy as np\n",
    "\n",
    "import numpy.random as npr\n",
    "\n",
    "\n",
    "import matplotlib.pyplot as plt\n",
    "\n",
    "from scipy.optimize import curve_fit"
   ]
  },
  {
   "cell_type": "code",
   "execution_count": 2,
   "id": "f6cc330b",
   "metadata": {},
   "outputs": [],
   "source": [
    "#Données \n",
    "\n",
    "\n",
    "G = 2. #Grandissement \n",
    "lambda_app = np.array([2.16, 1.55, 1.31, 1.10, 0.92])*10**-2 #Longueur d'onde apparente (m)\n",
    "f = np.array([20, 30, 40, 50, 60]) #Frequence de l'excitateur (Hz)"
   ]
  },
  {
   "cell_type": "code",
   "execution_count": 3,
   "id": "87fc0a05",
   "metadata": {},
   "outputs": [],
   "source": [
    "#Conversion des mesures vers les grandeurs d'interêts\n",
    "\n",
    "k = 2*np.pi / (lambda_app/G)\n",
    "w = 2*np.pi*f\n",
    "\n",
    "plt.plot(k**2, w**2/k , 'r+')"
   ]
  },
  {
   "cell_type": "code",
   "execution_count": 8,
   "id": "49190148",
   "metadata": {},
   "outputs": [
    {
     "name": "stdout",
     "output_type": "stream",
     "text": [
      "[5.17129068e-05 1.28420914e+01]\n"
     ]
    }
   ],
   "source": [
    "#Fit\n",
    "def f_lin(x,a,b):\n",
    "    return a*x+b\n",
    "\n",
    "pop, covop = curve_fit(f_lin, k**2, w**2/k)\n",
    "\n",
    "print (pop)\n"
   ]
  },
  {
   "cell_type": "code",
   "execution_count": null,
   "id": "a9b7fff5",
   "metadata": {},
   "outputs": [],
   "source": []
  }
 ],
 "metadata": {
  "kernelspec": {
   "display_name": "Python 3 (ipykernel)",
   "language": "python",
   "name": "python3"
  },
  "language_info": {
   "codemirror_mode": {
    "name": "ipython",
    "version": 3
   },
   "file_extension": ".py",
   "mimetype": "text/x-python",
   "name": "python",
   "nbconvert_exporter": "python",
   "pygments_lexer": "ipython3",
   "version": "3.9.12"
  }
 },
 "nbformat": 4,
 "nbformat_minor": 5
}
