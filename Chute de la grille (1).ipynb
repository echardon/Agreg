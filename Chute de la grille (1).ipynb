{
 "cells": [
  {
   "cell_type": "code",
   "execution_count": 1,
   "id": "404109bf",
   "metadata": {},
   "outputs": [],
   "source": [
    "import numpy as np\n",
    "\n",
    "import numpy.random as npr\n",
    "\n",
    "\n",
    "import matplotlib.pyplot as plt\n",
    "\n",
    "from scipy.optimize import curve_fit"
   ]
  },
  {
   "cell_type": "code",
   "execution_count": 26,
   "id": "dc10843a",
   "metadata": {},
   "outputs": [],
   "source": [
    "#Données \n",
    "\n",
    "L = 34.9*10**-2 #Longueur de la grille (m)\n",
    "dL = 0.2*10**-2\n",
    "\n",
    "N_barreaux = 23 #Nombre de barreaux\n",
    "\n",
    "t=np.array([38405908,38432808, 38452096,38467896,38481516, 38493864, 38505016, 38515328, 38525136, 38534340, 38543004, 38551304, 38559716, 38567328 ,38574820 ,38582376 ,38589608, 38596524, 38603328 ,38610020, 38616540, 38622820, 38628936])*10**-6 #Temps de passage des barreaux (s)\n",
    "t = t-t[0]\n",
    "dt = 1*10**-6\n",
    "\n",
    "\n",
    "z = np.array([]) #Position vertical de la grille\n",
    "for k in range (N_barreaux) : \n",
    "    z = np.append(z, k*L/(N_barreaux-1))\n",
    "dz = dL/N_barreaux\n"
   ]
  },
  {
   "cell_type": "code",
   "execution_count": 27,
   "id": "c82f686d",
   "metadata": {},
   "outputs": [
    {
     "data": {
      "image/png": "[encoded data removed]",
      "text/plain": [
       "<Figure size 720x504 with 1 Axes>"
      ]
     },
     "metadata": {
      "needs_background": "light"
     },
     "output_type": "display_data"
    },
    {
     "name": "stdout",
     "output_type": "stream",
     "text": [
      "9.579973517532316 +- 0.009293163429534746\n"
     ]
    }
   ],
   "source": [
    "#Monte-Carlo\n",
    "def f_lin(x,g,v0,x0):\n",
    "    return 0.5*g*x**2+v0*x + x0\n",
    "\n",
    "N_mc = 100 # nombre de simulations\n",
    "param = np.zeros((3, N_mc))\n",
    "\n",
    "\n",
    "for i in range(N_mc):\n",
    "    \n",
    "    z_mc = np.array([])\n",
    "    t_mc = np.array([])\n",
    "    \n",
    "    for k in range (len(t)) :\n",
    "        z_mc = np.append(z_mc, npr.normal(loc=(z[k]), scale=dz))\n",
    "        t_mc = np.append(t_mc, npr.normal(loc=t[k], scale=dt))\n",
    "            \n",
    "    pop, covop = curve_fit(f_lin, t_mc, z_mc)\n",
    "    param[0,i] = pop[0]\n",
    "    param[1,i] = pop[1]\n",
    "    param[2,i] = pop[2]\n",
    "    \n",
    "y_th = f_lin(t, *pop)\n",
    "\n",
    "plt.figure(5, figsize=(10,7))\n",
    "for i in range(N_mc):\n",
    "    y_th = f_lin(t, *param[:,i])\n",
    "    plt.plot(t, y_th,'r', alpha=0.1)\n",
    "plt.errorbar(t, z, xerr=dt, yerr=dz, fmt='o')\n",
    "plt.grid(which='both')\n",
    "plt.xlabel('Temps (s)', fontsize=18)\n",
    "plt.ylabel('Altitude (m)', fontsize=18)\n",
    "plt.show()    \n",
    "\n",
    "#Calcul de la pente\n",
    "\n",
    "a_moy = np.mean(param[0,:])\n",
    "a_sig = np.std(param[0,:])\n",
    "\n",
    "print (a_moy, '+-',a_sig )\n"
   ]
  },
  {
   "cell_type": "code",
   "execution_count": null,
   "id": "69860ffa",
   "metadata": {},
   "outputs": [],
   "source": []
  }
 ],
 "metadata": {
  "kernelspec": {
   "display_name": "Python 3 (ipykernel)",
   "language": "python",
   "name": "python3"
  },
  "language_info": {
   "codemirror_mode": {
    "name": "ipython",
    "version": 3
   },
   "file_extension": ".py",
   "mimetype": "text/x-python",
   "name": "python",
   "nbconvert_exporter": "python",
   "pygments_lexer": "ipython3",
   "version": "3.9.12"
  }
 },
 "nbformat": 4,
 "nbformat_minor": 5
}
