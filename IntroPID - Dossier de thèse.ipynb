{
 "cells": [
  {
   "cell_type": "code",
   "execution_count": 69,
   "id": "08de2eb5",
   "metadata": {},
   "outputs": [],
   "source": [
    "import matplotlib as mlib\n",
    "import matplotlib.pyplot as plt\n",
    "from random import *\n",
    "import numpy as np"
   ]
  },
  {
   "cell_type": "code",
   "execution_count": 70,
   "id": "6c0d6782",
   "metadata": {},
   "outputs": [],
   "source": [
    "#Fonction d'affichage de la grille - cette partie est fournie à l'étudiant.\n",
    "\n",
    "def plot_colored_grid(data, colors=['white', 'green'], bounds=[0, 0.5, 1], grid=True, labels=False, frame=True):\n",
    "    # create discrete colormap\n",
    "    cmap = mlib.colors.ListedColormap(colors)\n",
    "    norm = mlib.colors.BoundaryNorm(bounds, cmap.N)\n",
    "\n",
    "    # enable or disable frame\n",
    "    plt.figure(frameon=frame)\n",
    "\n",
    "    # show grid\n",
    "    if grid:\n",
    "        plt.grid(axis='both', color='k', linewidth=2) \n",
    "        plt.xticks(np.arange(0.5, data.shape[1], 1))  # correct grid sizes\n",
    "        plt.yticks(np.arange(0.5, data.shape[0], 1))\n",
    "\n",
    "    # disable labels\n",
    "    if not labels:\n",
    "        plt.tick_params(bottom=False, top=False, left=False, right=False, labelbottom=False, labelleft=False) \n",
    "    # plot data matrix\n",
    "    plt.imshow(data, cmap=cmap, norm=norm)\n",
    "\n",
    "    # display main axis \n",
    "    plt.show()"
   ]
  },
  {
   "cell_type": "code",
   "execution_count": 78,
   "id": "ad9afc4b",
   "metadata": {},
   "outputs": [
    {
     "data": {
      "image/png": "[encoded data removed]",
      "text/plain": [
       "<Figure size 432x288 with 1 Axes>"
      ]
     },
     "metadata": {},
     "output_type": "display_data"
    }
   ],
   "source": [
    "data = np.zeros((10, 10))\n",
    "\n",
    "#Fonction simulateur - à faire par les étudiants.\n",
    "\n",
    "def simulateur (N_proton, N_muon, N_pion) : \n",
    "    L_short = 3\n",
    "    L_long = 8\n",
    "\n",
    "    E_low = 1\n",
    "    E_high = 3\n",
    "    \n",
    "    ###Simulation des protons\n",
    "    for k in range (N_proton) : \n",
    "        n = random()                     #Tirage de la direction de propagation\n",
    "        if n < 0.5 : direction = 0       #Direction horizontale\n",
    "        else : direction = 1             #Direction vertical\n",
    "        \n",
    "        if direction == 0 : \n",
    "            x = randint (0, 6)           #Tirage de la position initiale\n",
    "            y = randint(0, 9)\n",
    "            for i in range (L_short) : \n",
    "                data[x+i, y] += E_high\n",
    "\n",
    "        if direction == 1 : \n",
    "            x = randint (0, 9)           #Tirage de la position initiale\n",
    "            y = randint(0, 6)\n",
    "            for i in range (L_short) : \n",
    "                data[x, y+i] += E_high\n",
    "                \n",
    "    ###Simulation des muons\n",
    "    for k in range (N_muon) : \n",
    "        n = random()                     #Tirage de la direction de propagation\n",
    "        if n < 0.5 : direction = 0       #Direction horizontale\n",
    "        else : direction = 1             #Direction vertical\n",
    "        \n",
    "        if direction == 0 : \n",
    "            x = randint (0, 2)           #Tirage de la position initiale\n",
    "            y = randint(0, 9)\n",
    "            for i in range (L_long) : \n",
    "                data[x+i, y] += E_low\n",
    "\n",
    "        if direction == 1 : \n",
    "            x = randint (0, 9)           #Tirage de la position initiale\n",
    "            y = randint(0, 2)\n",
    "            for i in range (L_long) : \n",
    "                data[x, y+i] += E_low\n",
    "\n",
    "    ###Simulation des pions\n",
    "    for k in range (N_pion) : \n",
    "        n = random()                     #Tirage de la direction de propagation\n",
    "        if n < 0.5 : direction = 0       #Direction horizontale\n",
    "        else : direction = 1             #Direction vertical\n",
    "        \n",
    "        if direction == 0 : \n",
    "            x = randint (0, 6)           #Tirage de la position initiale\n",
    "            y = randint(0, 9)\n",
    "            for i in range (L_short) : \n",
    "                data[x+i, y] += E_low\n",
    "\n",
    "        if direction == 1 : \n",
    "            x = randint (0, 9)           #Tirage de la position initiale\n",
    "            y = randint(0, 6)\n",
    "            for i in range (L_short) : \n",
    "                data[x, y+i] += E_low\n",
    "\n",
    "    return\n",
    "\n",
    "simulateur (1,1,1) #Execution de la simulation avec 1 proton, 1 muon et 1 pion\n",
    "\n",
    "\n",
    "##Affichage du détecteur avec les traces (ligne fournie aux étudiants)\n",
    "plot_colored_grid(data, colors=['white', 'green', 'yellow', 'red', 'black'], bounds=[0, 0.5, 1.5, 2.5, 3.5, 100])"
   ]
  },
  {
   "cell_type": "code",
   "execution_count": null,
   "id": "47e53300",
   "metadata": {},
   "outputs": [],
   "source": []
  }
 ],
 "metadata": {
  "kernelspec": {
   "display_name": "Python 3 (ipykernel)",
   "language": "python",
   "name": "python3"
  },
  "language_info": {
   "codemirror_mode": {
    "name": "ipython",
    "version": 3
   },
   "file_extension": ".py",
   "mimetype": "text/x-python",
   "name": "python",
   "nbconvert_exporter": "python",
   "pygments_lexer": "ipython3",
   "version": "3.9.12"
  }
 },
 "nbformat": 4,
 "nbformat_minor": 5
}
