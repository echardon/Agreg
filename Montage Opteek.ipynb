{
 "cells": [
  {
   "cell_type": "markdown",
   "id": "2aaccaf9",
   "metadata": {},
   "source": [
    "Montage Opteek"
   ]
  },
  {
   "cell_type": "code",
   "execution_count": 48,
   "id": "7581d91a",
   "metadata": {},
   "outputs": [
    {
     "name": "stdout",
     "output_type": "stream",
     "text": [
      "Using matplotlib backend: QtAgg\n"
     ]
    }
   ],
   "source": [
    "import numpy as np \n",
    "import matplotlib.pyplot as plt\n",
    "import pandas as pd \n",
    "import scipy.optimize\n",
    "import scipy.signal\n",
    "from scipy.optimize import curve_fit\n",
    "from scipy.signal import find_peaks\n",
    "\n",
    "%matplotlib"
   ]
  },
  {
   "cell_type": "code",
   "execution_count": 73,
   "id": "4cf54ee3",
   "metadata": {
    "scrolled": true
   },
   "outputs": [
    {
     "name": "stdout",
     "output_type": "stream",
     "text": [
      "[ 2.73     3.75648  3.81108  3.86568  5.12148  7.30548  8.36472  8.65956\n",
      "  9.62052 10.76712 11.94648 12.96204 13.25688 14.0322  16.20528 16.25988\n",
      " 16.31448 16.69668 16.75128 16.8168  17.81052 17.83236 17.86512 17.89788\n",
      " 18.91344 18.93528 19.09908 24.6246  24.65736 24.6792  24.7338  25.91316\n",
      " 25.94592 25.9896  26.02236 26.05512]\n"
     ]
    },
    {
     "data": {
      "text/plain": [
       "[<matplotlib.lines.Line2D at 0x2064e114370>]"
      ]
     },
     "execution_count": 73,
     "metadata": {},
     "output_type": "execute_result"
    }
   ],
   "source": [
    "# Fixed values \n",
    "\n",
    "D = 69.0 * 10**-2\n",
    "laserLambda = 532.0 * 10**-9\n",
    "# Open data\n",
    "var = pd.read_excel(\"F0010CH1.xlsx\")\n",
    "pos = np.array(var['Position'])\n",
    "intensity = np.array(var['Intensity'])\n",
    "\n",
    "# Convert time into position\n",
    "K = 27.3\n",
    "pos = pos * K * 10**3\n",
    "\n",
    "# Normalize intensity\n",
    "intensity = intensity - intensity.min()\n",
    "intensity = intensity/intensity.max()\n",
    "\n",
    "#find peaks in intensity\n",
    "\n",
    "peaks, _ = find_peaks(intensity, width = 10)\n",
    "print (pos[peaks])\n",
    "\n",
    "plt.title ('Intensité en fonction de la position')\n",
    "plt.xlabel('Position (mm)')\n",
    "plt.ylabel('Intensité (UA)')\n",
    "\n",
    "plt.plot(pos[peaks], intensity[peaks])\n",
    "plt.plot(pos, intensity)\n",
    "\n"
   ]
  },
  {
   "cell_type": "code",
   "execution_count": 74,
   "id": "2b469eaf",
   "metadata": {},
   "outputs": [
    {
     "name": "stdout",
     "output_type": "stream",
     "text": [
      "1.1356799999999998\n",
      "323.224852071006\n"
     ]
    }
   ],
   "source": [
    "#Nombre de peak\n",
    "Ninterfranges = 9\n",
    "\n",
    "i = (14.0322 - 3.81108)/Ninterfranges\n",
    "\n",
    "print (i)\n",
    "\n",
    "fentes = laserLambda * D / (i * 10**-3) \n",
    "\n",
    "\n",
    "print (fentes * 10**6)"
   ]
  },
  {
   "cell_type": "code",
   "execution_count": null,
   "id": "d7849ba3",
   "metadata": {},
   "outputs": [],
   "source": []
  },
  {
   "cell_type": "code",
   "execution_count": null,
   "id": "ff396137",
   "metadata": {},
   "outputs": [],
   "source": []
  }
 ],
 "metadata": {
  "kernelspec": {
   "display_name": "Python 3 (ipykernel)",
   "language": "python",
   "name": "python3"
  },
  "language_info": {
   "codemirror_mode": {
    "name": "ipython",
    "version": 3
   },
   "file_extension": ".py",
   "mimetype": "text/x-python",
   "name": "python",
   "nbconvert_exporter": "python",
   "pygments_lexer": "ipython3",
   "version": "3.9.12"
  }
 },
 "nbformat": 4,
 "nbformat_minor": 5
}
