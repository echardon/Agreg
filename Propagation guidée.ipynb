{
 "cells": [
  {
   "cell_type": "markdown",
   "id": "df606798",
   "metadata": {},
   "source": [
    "# Propagation guidée"
   ]
  },
  {
   "cell_type": "code",
   "execution_count": 3,
   "id": "c5c481a5",
   "metadata": {},
   "outputs": [
    {
     "name": "stdout",
     "output_type": "stream",
     "text": [
      "Using matplotlib backend: QtAgg\n"
     ]
    }
   ],
   "source": [
    "import numpy as np \n",
    "import matplotlib.pyplot as plt\n",
    "import pandas as pd \n",
    "import scipy.optimize\n",
    "import scipy.signal\n",
    "from scipy.optimize import curve_fit\n",
    "from scipy.signal import find_peaks\n",
    "\n",
    "from uncertainties import ufloat\n",
    "from uncertainties.umath import *\n",
    "from uncertainties import unumpy as unp\n",
    "\n",
    "\n",
    "%matplotlib"
   ]
  },
  {
   "cell_type": "markdown",
   "id": "9116fceb",
   "metadata": {},
   "source": [
    "Mesure de la vitesse de propagation de modes acoustique"
   ]
  },
  {
   "cell_type": "code",
   "execution_count": 4,
   "id": "1b3a392d",
   "metadata": {},
   "outputs": [
    {
     "name": "stdout",
     "output_type": "stream",
     "text": [
      "[1.0+/-0 0.9170731707317074+/-0.033968148296001734\n",
      " 0.7747252747252746+/-0.01737623382701306]\n",
      "[0.9455821579787812+/-0.0007318131188763198\n",
      " 0.8420763009707187+/-0.0022579381806746702\n",
      " 0.7357136640387805+/-0.004075233891967898]\n"
     ]
    }
   ],
   "source": [
    "#Données / Paramètres\n",
    "\n",
    "inc_L = 1.0\n",
    "L = ufloat(192, inc_L)*10**-2 #Longueur du tuyau (m)\n",
    "\n",
    "inc_d = 0.1\n",
    "d = ufloat(15.3, inc_d)*10**-3 #Diamètre du tuyau (m)\n",
    "\n",
    "Lambda = 8.5*10**-3 #longueur d'onde du signal (m)\n",
    "\n",
    "inc_dt_precis = 0.1\n",
    "inc_dt_imprecis = 0.2\n",
    "dt = unp.uarray([5.64, 6.15, 7.28], [inc_dt_precis, inc_dt_imprecis, inc_dt_precis])*10**-3 #Temps mesurés de propagation des modes (s)\n",
    "\n",
    "c_mes = L/dt #Vitesse mesurée de propagation des modes (m/s)\n",
    "\n",
    "#Calcul de la vitesse théorique de propagation des modes (m/s)\n",
    "\n",
    "inc_c0 = 0.2\n",
    "c0 = ufloat(344.2, inc_c0)\n",
    "\n",
    "mu_11 = 1.84\n",
    "mu_21 = 3.05\n",
    "mu_12 = 3.83\n",
    "\n",
    "lambda_c = np.array([np.pi*d/mu_11, np.pi*d/mu_21, np.pi*d/mu_12])\n",
    "lambda_g = lambda_c*Lambda/unp.sqrt(lambda_c**2 - Lambda**2)\n",
    "\n",
    "\n",
    "c_th = c0*Lambda/lambda_g #Vitesse théorique de propagation des modes\n",
    "\n",
    "#Affichage  des vitesses normalisées au mode fondamental\n",
    "\n",
    "print (c_mes/c_mes[0])\n",
    "print (c_th/c0)"
   ]
  },
  {
   "cell_type": "code",
   "execution_count": 9,
   "id": "5d79dfe6",
   "metadata": {},
   "outputs": [
    {
     "name": "stdout",
     "output_type": "stream",
     "text": [
      "[0.0+/-0 -2.6706278524904548+/-0.4466447820476744\n",
      " -3.5291287468311334+/-0.4578427621647704\n",
      " -5.753641449035618+/-0.49019607843137253]\n"
     ]
    }
   ],
   "source": [
    "#Mesure longueur des cables\n",
    "\n",
    "c = 3*10**8 #vitesse de la lumière dans le vie (m/s)\n",
    "c_cablecoax = ufloat(0.67*c, 0.01*c) \n",
    "\n",
    "inc_dt = 5\n",
    "dt = unp.uarray([0, 510, 320, 510], [0, inc_dt, inc_dt, inc_dt])*10**-9 #temps entre un impulsion et sa réflexion (s)\n",
    "\n",
    "L = c_cablecoax*dt/2 #longueur du cable (m)\n",
    "\n",
    "#Mesure de l'atténuation du signal en fonction de la fréquence\n",
    "\n",
    "L[3] = L[3]+L[2]+L[1] #On branche les cables en série\n",
    "L[2] = L[2]+L[1]\n",
    "\n",
    "inc_U = 0.04\n",
    "U_500k = unp.uarray([2.70, 2.42, 2.34, 2.18], [inc_U, inc_U, inc_U, inc_U]) #Amplitude (crete à crete) (V)\n",
    "U_1M = unp.uarray([2.72, 2.38, 2.28, 2.04], [inc_U, inc_U, inc_U, inc_U])\n",
    "U_2M = unp.uarray([2.60, 2.30, 2.14, 1.82], [inc_U, inc_U, inc_U, inc_U])\n",
    "U_5M = unp.uarray([2.66, 2.14, 1.90, 1.42], [inc_U, inc_U, inc_U, inc_U])\n",
    "\n",
    "\n",
    "A_500k = 20*unp.log(U_500k/U_500k[0]) #Coefficient d'atténuation (dB)\n",
    "A_1M = 20*unp.log(U_1M/U_1M[0])\n",
    "A_2M = 20*unp.log(U_2M/U_2M[0])\n",
    "A_5M = 20*unp.log(U_5M/U_5M[0])\n",
    "print (A_1M)\n"
   ]
  },
  {
   "cell_type": "code",
   "execution_count": 6,
   "id": "1a30d72d",
   "metadata": {},
   "outputs": [],
   "source": [
    "#Fit de l'atténuation\n",
    "\n",
    "def func(x, a):\n",
    "    return a*x\n",
    "\n",
    "popt500, pcov500 = curve_fit(func, unp.nominal_values(L), unp.nominal_values(A_500k))\n",
    "popt1, pcov1 = curve_fit(func, unp.nominal_values(L), unp.nominal_values(A_1M))\n",
    "popt2, pcov2 = curve_fit(func, unp.nominal_values(L), unp.nominal_values(A_2M))\n",
    "popt5, pcov5 = curve_fit(func, unp.nominal_values(L), unp.nominal_values(A_5M))\n",
    "\n",
    "delta_pcov500 = np.sqrt(pcov500.diagonal(0))\n",
    "delta_pcov500 = delta_pcov500[0]\n",
    "\n",
    "delta_pcov1 = np.sqrt(pcov1.diagonal(0))\n",
    "delta_pcov1 = delta_pcov1[0]\n",
    "\n",
    "delta_pcov2 = np.sqrt(pcov2.diagonal(0))\n",
    "delta_pcov2 = delta_pcov2[0]\n",
    "\n",
    "delta_pcov5 = np.sqrt(pcov5.diagonal(0))\n",
    "delta_pcov5 = delta_pcov5[0]\n"
   ]
  },
  {
   "cell_type": "code",
   "execution_count": 7,
   "id": "0a8a36e1",
   "metadata": {},
   "outputs": [
    {
     "name": "stdout",
     "output_type": "stream",
     "text": [
      "L'atténuation est de ( -3.344587996843001 +- 0.18418572647312287 )dB/100m à 500kHz, de ( -4.350859780976422 +- 0.16090596444641359 )dB/100m à 1MHz, de ( -5.090609551665548 +- 0.16485819901345644 )dB/100m à 2MHz et de ( -8.927773163637731 +- 0.3191672924514074 )dB/100m à 5MHz.\n"
     ]
    }
   ],
   "source": [
    "#Tracer les coefficients d'atténuations en fonction de la longueur du cable\n",
    "\n",
    "plt.xlabel('Longueur du cable (en m)')\n",
    "plt.ylabel('Atténuation (en dB)')\n",
    "\n",
    "plt.plot(unp.nominal_values(L), unp.nominal_values(A_500k), 'y*')\n",
    "plt.errorbar(unp.nominal_values(L), unp.nominal_values(A_500k), unp.std_devs(A_500k), unp.std_devs(L), 'yo')\n",
    "\n",
    "plt.plot(unp.nominal_values(L), unp.nominal_values(A_1M), 'g*')\n",
    "plt.errorbar(unp.nominal_values(L), unp.nominal_values(A_1M), unp.std_devs(A_1M), unp.std_devs(L), 'go')\n",
    "\n",
    "\n",
    "plt.plot(unp.nominal_values(L), unp.nominal_values(A_2M), 'r*')\n",
    "plt.errorbar(unp.nominal_values(L), unp.nominal_values(A_2M), unp.std_devs(A_2M), unp.std_devs(L), 'ro')\n",
    "\n",
    "\n",
    "plt.plot(unp.nominal_values(L), unp.nominal_values(A_5M), 'b*')\n",
    "plt.errorbar(unp.nominal_values(L), unp.nominal_values(A_5M), unp.std_devs(A_5M), unp.std_devs(L), 'bo')\n",
    "\n",
    "\n",
    "plt.plot(unp.nominal_values(L), func(unp.nominal_values(L), *popt500), 'y')\n",
    "plt.plot(unp.nominal_values(L), func(unp.nominal_values(L), *popt1), 'g') \n",
    "plt.plot(unp.nominal_values(L), func(unp.nominal_values(L), *popt2), 'r') \n",
    "plt.plot(unp.nominal_values(L), func(unp.nominal_values(L), *popt5), 'b') \n",
    "\n",
    "print (\"L'atténuation est de (\", 100*popt500[0], \"+-\", delta_pcov500*100, \")dB/100m à 500kHz, de (\", 100*popt1[0], \"+-\", delta_pcov1*100, \")dB/100m à 1MHz, de (\", 100*popt2[0], \"+-\", delta_pcov2*100, \")dB/100m à 2MHz et de (\", 100*popt5[0], \"+-\", delta_pcov5*100, \")dB/100m à 5MHz.\")\n",
    "\n"
   ]
  },
  {
   "cell_type": "code",
   "execution_count": null,
   "id": "4749c9f8",
   "metadata": {},
   "outputs": [],
   "source": []
  },
  {
   "cell_type": "code",
   "execution_count": null,
   "id": "b0467d2a",
   "metadata": {},
   "outputs": [],
   "source": []
  }
 ],
 "metadata": {
  "kernelspec": {
   "display_name": "Python 3 (ipykernel)",
   "language": "python",
   "name": "python3"
  },
  "language_info": {
   "codemirror_mode": {
    "name": "ipython",
    "version": 3
   },
   "file_extension": ".py",
   "mimetype": "text/x-python",
   "name": "python",
   "nbconvert_exporter": "python",
   "pygments_lexer": "ipython3",
   "version": "3.9.12"
  }
 },
 "nbformat": 4,
 "nbformat_minor": 5
}
