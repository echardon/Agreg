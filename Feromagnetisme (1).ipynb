{
 "cells": [
  {
   "cell_type": "code",
   "execution_count": 1,
   "metadata": {},
   "outputs": [],
   "source": [
    "import numpy as np\n",
    "import matplotlib.pyplot as plt\n",
    "from scipy.optimize import curve_fit\n",
    "import pandas as pd"
   ]
  },
  {
   "cell_type": "markdown",
   "metadata": {},
   "source": [
    "# Courbe de premiere aimentation"
   ]
  },
  {
   "cell_type": "code",
   "execution_count": 2,
   "metadata": {},
   "outputs": [],
   "source": [
    "#Caracteristique transformateur \n",
    "N_1 = 250\n",
    "N_2 = 125\n",
    "\n",
    "l = 0.52 #Longueur moyenne transfo\n",
    "\n",
    "S = 25 *1e-4   #Surface spire"
   ]
  },
  {
   "cell_type": "code",
   "execution_count": 3,
   "metadata": {},
   "outputs": [],
   "source": [
    "#mesure au fluxmetre (attention unité a la con sur le cadran il faut faire : nbr_division*2*1e-4)\n",
    "flux = np.array([13,31,47,68])*2*1e-4\n",
    "\n",
    "#Courant \n",
    "I = np.array([0.098,0.199,0.303,0.405])"
   ]
  },
  {
   "cell_type": "code",
   "execution_count": 4,
   "metadata": {},
   "outputs": [
    {
     "name": "stdout",
     "output_type": "stream",
     "text": [
      "[ 47.11538462  95.67307692 145.67307692 194.71153846]\n"
     ]
    }
   ],
   "source": [
    "#Calcul de B et H\n",
    "H = (N_1*I)/l\n",
    "B = (flux)/(S*N_2)\n",
    "\n",
    "print(H)"
   ]
  },
  {
   "cell_type": "code",
   "execution_count": 5,
   "metadata": {},
   "outputs": [],
   "source": [
    "def fit(x,a,b):\n",
    "    return a*x+b\n",
    "\n",
    "pop_1,covop_1 = curve_fit(fit,H,B)\n",
    "a_op_1,b_op_1 = pop_1\n",
    "\n",
    "B_opt = fit(H,a_op_1,b_op_1)"
   ]
  },
  {
   "cell_type": "code",
   "execution_count": 6,
   "metadata": {},
   "outputs": [
    {
     "data": {
      "application/vnd.jupyter.widget-view+json": {
       "model_id": "554ac2de86924942999a5ef2c3dbc9bc",
       "version_major": 2,
       "version_minor": 0
      },
      "text/plain": [
       "Canvas(toolbar=Toolbar(toolitems=[('Home', 'Reset original view', 'home', 'home'), ('Back', 'Back to previous …"
      ]
     },
     "metadata": {},
     "output_type": "display_data"
    }
   ],
   "source": [
    "import ipywidgets as widget\n",
    "%matplotlib widget\n",
    "\n",
    "plt.plot(H,B,'+r',label = \"data\")\n",
    "plt.plot(H,B_opt,\"-b\",label = \"fit\")\n",
    "\n",
    "plt.xlabel(\"Exitation magnetique\")\n",
    "plt.ylabel(\"Champs magnétique B (T)\")\n",
    "plt.title(\"courbe de B en fonction de H\")\n",
    "\n",
    "plt.grid()"
   ]
  },
  {
   "cell_type": "code",
   "execution_count": 7,
   "metadata": {},
   "outputs": [
    {
     "name": "stdout",
     "output_type": "stream",
     "text": [
      "equation de la droite B =  0.00023503838692653033 *H -0.002951055159529594\n"
     ]
    }
   ],
   "source": [
    "print(\"equation de la droite B = \",a_op_1,\"*H\",b_op_1)"
   ]
  },
  {
   "cell_type": "markdown",
   "metadata": {},
   "source": [
    "On ne peut pas conclure grand chose car on ne sais pas ou on se trouve sur la courbe de premiere aimentation.\n",
    "Les valeur de pente ne correspondent pas a $\\mu_{0}$ et l'ordonne a l origine n'est pas $\\mu_{0}.M_{sat}$. Bien a montrer vite fait mais vu qu il n y a pas grand chose a confronter c'est bof "
   ]
  },
  {
   "cell_type": "markdown",
   "metadata": {},
   "source": [
    "# Cycle d'hysteresis\n",
    "\n",
    "- voir circuit rouen (electromagnetisme)\n",
    "r primaire = rheostat 17 ohm, Secondaire C = 5µF et R = 100kohm (boite a decade)\n",
    "\n",
    "- Ici U = 100 V pour bien voir le cycle\n",
    "\n",
    "## Théorie\n",
    "\n",
    "Loi d'ohm : $ u_{1}+e_{1} = i_{1}.R_{1}$ et  $ u_{2}+e_{2} = i_{2}.R_{2}$\n",
    "\n",
    "Or l'impedance au secondaire étant très grande nous avons $ u_{2} = - e_{2}=-(-\\frac{d}{dt}.N_{2}.S.B) = N_{2}.S\\frac{dB}{dt})$\n",
    "\n",
    "Au secondaire on à la fonction de transfert suivante : $\\frac{U_{s}}{U_{2}} = \\frac{1}{1+j.R.c.\\omega}$\n",
    "\n",
    "On choisit R et C de façon a ce que le terme $R.C \\omega << 1$ d'ou \n",
    "\n",
    "$$ U_{s} = \\frac{1}{R.C}.\\int{u_{2}.dt} = \\frac{1}{R.C}. N_{2}.S.B$$\n",
    "\n",
    "Le condensateur joue le role d'intégrateur !!!!!!!!!! (dans l'esprit c'est un flux metre)\n",
    "\n",
    "Pour l'exitation magnétique : $ \\int{\\vec{H}.\\vec{dl}} = N_{1}.i_{1} + N_{2}.i_{2}$\n",
    "\n",
    "D'ou $$ H = \\frac{N_{1}.i_{1}}{l} =-\\frac{N_{1}}{l.r_{rheostat}}.U_{1} $$\n",
    "\n",
    "\n"
   ]
  },
  {
   "cell_type": "code",
   "execution_count": 8,
   "metadata": {},
   "outputs": [],
   "source": [
    "#Puissance dans le primaire (valeur de puissance wattmetre fausse)\n",
    "P_primaire_1 = 2.7  #W 150V\n",
    "I_primaire_1 =  1.225  #I bobine pour perte cuivre \n",
    "\n",
    "\n",
    "P_primaire_3 = 12.5  #W 100 V\n",
    "I_primaire_3 =  0.832  #I bobine pour perte cuivre \n",
    "\n",
    "\n",
    "P_primaire_2 =   18.3# 125 V\n",
    "I_primaire_2 =    1.07#I bobine pour perte cuivre \n",
    "\n",
    "#Circuit RC\n",
    "C = 5*1e-6\n",
    "R = 100*1e3   \n",
    "R_primaire_cuivre = 1.8\n",
    "R_rheostat = 1.8"
   ]
  },
  {
   "cell_type": "code",
   "execution_count": 9,
   "metadata": {},
   "outputs": [],
   "source": [
    "#Importation des données\n",
    "data_1 = pd.read_csv(\"Cycle.csv\", sep = ';', decimal = ',')  \n",
    "data_2 = pd.read_csv(\"Cycle_125.csv\", sep = ';', decimal = ',')  \n",
    "data_3 = pd.read_csv(\"Cycle_100hz.csv\", sep = ';', decimal = ',')  "
   ]
  },
  {
   "cell_type": "code",
   "execution_count": 10,
   "metadata": {},
   "outputs": [],
   "source": [
    "U_primaire_1 = np.array(data_1['EA1'])\n",
    "U_secondaire_1 = np.array(data_1['EA2'])\n",
    "\n",
    "U_primaire_2 = np.array(data_2['EA1'])\n",
    "U_secondaire_2 = np.array(data_2['EA2'])\n",
    "\n",
    "U_primaire_3 = np.array(data_3['EA1'])\n",
    "U_secondaire_3 = np.array(data_3['EA2'])\n"
   ]
  },
  {
   "cell_type": "code",
   "execution_count": 11,
   "metadata": {},
   "outputs": [
    {
     "data": {
      "application/vnd.jupyter.widget-view+json": {
       "model_id": "5eb42b2a93f94ac492a83fb7081a7e19",
       "version_major": 2,
       "version_minor": 0
      },
      "text/plain": [
       "Canvas(toolbar=Toolbar(toolitems=[('Home', 'Reset original view', 'home', 'home'), ('Back', 'Back to previous …"
      ]
     },
     "metadata": {},
     "output_type": "display_data"
    }
   ],
   "source": [
    "# Tracer le cycle pour differente valeur de tension à l'alternostat\n",
    "import ipywidgets as widget\n",
    "%matplotlib widget\n",
    "\n",
    "plt.plot(U_primaire_1,U_secondaire_1,'+r',label = \"data 150 volts\")\n",
    "plt.plot(U_primaire_2,U_secondaire_2,'+g',label = \"data 125 volts\")\n",
    "plt.plot(U_primaire_3,U_secondaire_3,'+y',label = \"data 100 volts\")\n",
    "\n",
    "plt.xlabel(\"tension_primairee\")\n",
    "plt.ylabel(\"tension secondaire\")\n",
    "plt.title(\"cycle d'hysteresis\")\n",
    "\n",
    "plt.legend()\n",
    "plt.grid()"
   ]
  },
  {
   "cell_type": "code",
   "execution_count": 12,
   "metadata": {},
   "outputs": [],
   "source": [
    "# Calcul de k1 et k2\n",
    "k_1 = (-R_rheostat*l)/N_1\n",
    "k_2 = (-N_2*S)/(R*C)"
   ]
  },
  {
   "cell_type": "code",
   "execution_count": 13,
   "metadata": {},
   "outputs": [],
   "source": [
    "#Calcul de H et de B\n",
    "\n",
    "H_1 = U_primaire_1/k_1\n",
    "B_1 = U_secondaire_1/k_2\n",
    "\n",
    "H_2 = U_primaire_2/k_1\n",
    "B_2 = U_secondaire_2/k_2\n",
    "\n",
    "H_3 = U_primaire_3/k_1\n",
    "B_3 = U_secondaire_3/k_2"
   ]
  },
  {
   "cell_type": "code",
   "execution_count": 14,
   "metadata": {},
   "outputs": [
    {
     "data": {
      "application/vnd.jupyter.widget-view+json": {
       "model_id": "aec36dbec82b46d99eec6b3bf17bff90",
       "version_major": 2,
       "version_minor": 0
      },
      "text/plain": [
       "Canvas(toolbar=Toolbar(toolitems=[('Home', 'Reset original view', 'home', 'home'), ('Back', 'Back to previous …"
      ]
     },
     "metadata": {},
     "output_type": "display_data"
    }
   ],
   "source": [
    "import ipywidgets as widget\n",
    "%matplotlib widget\n",
    "\n",
    "plt.plot(H_1,B_1,'+r',label = \"data 150V\")\n",
    "plt.plot(H_2,B_2,'+g',label = \"data 125V\")\n",
    "plt.plot(H_3,B_3,'+y',label = \"data 100V\")\n",
    "\n",
    "plt.xlabel(\"exitation magnetique \")\n",
    "plt.ylabel(\"champ B (T)\")\n",
    "plt.title(\"cycle d'hysteresis\")\n",
    "\n",
    "plt.legend()\n",
    "plt.grid()"
   ]
  },
  {
   "cell_type": "code",
   "execution_count": 15,
   "metadata": {},
   "outputs": [],
   "source": [
    "#Air sous la courbe\n",
    "from scipy import integrate as intg\n",
    "\n",
    "surface_cycle_1 =- intg.trapz(B_1, H_1)\n",
    "surface_cycle_2 = -intg.trapz(B_2, H_2)\n",
    "surface_cycle_3 = -intg.trapz(B_3, H_3)"
   ]
  },
  {
   "cell_type": "code",
   "execution_count": 16,
   "metadata": {},
   "outputs": [
    {
     "name": "stdout",
     "output_type": "stream",
     "text": [
      "puissance perdu du au cycle à 150V 10.452835924010467 W\n",
      "puissance perdu du au cycle à150V 8.420092789676925 W\n",
      "puissance perdu du au cycle à 100V  6.040406168829319 W\n"
     ]
    }
   ],
   "source": [
    "f = 50   #Frequence secteur\n",
    "\n",
    "Puissance_perdu_1 = surface_cycle_1*f*l*S\n",
    "Puissance_perdu_2 = surface_cycle_2*f*l*S\n",
    "Puissance_perdu_3 = surface_cycle_3*f*l*S\n",
    "\n",
    "print(\"puissance perdu du au cycle à 150V\",Puissance_perdu_1,\"W\")\n",
    "print(\"puissance perdu du au cycle à 150V\",Puissance_perdu_2,\"W\")\n",
    "print(\"puissance perdu du au cycle à 100V \",Puissance_perdu_3,\"W\")"
   ]
  },
  {
   "cell_type": "code",
   "execution_count": 17,
   "metadata": {},
   "outputs": [
    {
     "ename": "NameError",
     "evalue": "name 'R_primaire' is not defined",
     "output_type": "error",
     "traceback": [
      "\u001b[1;31m---------------------------------------------------------------------------\u001b[0m",
      "\u001b[1;31mNameError\u001b[0m                                 Traceback (most recent call last)",
      "\u001b[1;32m<ipython-input-17-1d7abc538c8f>\u001b[0m in \u001b[0;36m<module>\u001b[1;34m\u001b[0m\n\u001b[0;32m      1\u001b[0m \u001b[1;31m#Puissance perdu a cause des pertes cuivres\u001b[0m\u001b[1;33m\u001b[0m\u001b[1;33m\u001b[0m\u001b[1;33m\u001b[0m\u001b[0m\n\u001b[1;32m----> 2\u001b[1;33m \u001b[0mP_cuivre_1\u001b[0m \u001b[1;33m=\u001b[0m \u001b[0mR_primaire\u001b[0m\u001b[1;33m*\u001b[0m\u001b[0mI_primaire_1\u001b[0m\u001b[1;33m**\u001b[0m\u001b[1;36m2\u001b[0m\u001b[1;33m\u001b[0m\u001b[1;33m\u001b[0m\u001b[0m\n\u001b[0m\u001b[0;32m      3\u001b[0m \u001b[0mP_cuivre_2\u001b[0m \u001b[1;33m=\u001b[0m \u001b[0mR_primaire\u001b[0m\u001b[1;33m*\u001b[0m\u001b[0mI_primaire_2\u001b[0m\u001b[1;33m**\u001b[0m\u001b[1;36m2\u001b[0m\u001b[1;33m\u001b[0m\u001b[1;33m\u001b[0m\u001b[0m\n\u001b[0;32m      4\u001b[0m \u001b[0mP_cuivre_3\u001b[0m \u001b[1;33m=\u001b[0m \u001b[0mR_primaire\u001b[0m\u001b[1;33m*\u001b[0m\u001b[0mI_primaire_3\u001b[0m\u001b[1;33m**\u001b[0m\u001b[1;36m2\u001b[0m\u001b[1;33m\u001b[0m\u001b[1;33m\u001b[0m\u001b[0m\n\u001b[0;32m      5\u001b[0m \u001b[1;33m\u001b[0m\u001b[0m\n",
      "\u001b[1;31mNameError\u001b[0m: name 'R_primaire' is not defined"
     ]
    }
   ],
   "source": [
    "#Puissance perdu a cause des pertes cuivres\n",
    "P_cuivre_1 = R_primaire*I_primaire_1**2\n",
    "P_cuivre_2 = R_primaire*I_primaire_2**2\n",
    "P_cuivre_3 = R_primaire*I_primaire_3**2\n",
    "\n",
    "print(\"perte cuivre au primaire à 150V\",P_cuivre_1,\"W\")\n",
    "print(\"perte cuivre au primaire à 125V\",P_cuivre_2,\"W\")\n",
    "print(\"perte cuivre au primaire à 100V\",P_cuivre_3,\"W\")"
   ]
  },
  {
   "cell_type": "code",
   "execution_count": 18,
   "metadata": {},
   "outputs": [
    {
     "name": "stdout",
     "output_type": "stream",
     "text": [
      "puissance totale à 150V 20.905671848020933\n",
      "puissance totale à 125V 14.460498958506244\n",
      "puissance totale à 100V 12.080812337658639\n"
     ]
    }
   ],
   "source": [
    "#Calcul Puissance total au primaire\n",
    "P_tot_1 = Puissance_perdu_1 + Puissance_perdu_1 \n",
    "P_tot_2 = Puissance_perdu_2 + Puissance_perdu_3\n",
    "P_tot_3 = Puissance_perdu_3 + Puissance_perdu_3\n",
    "\n",
    "\n",
    "print(\"puissance totale à 150V\",P_tot_1 )\n",
    "print(\"puissance totale à 125V\",P_tot_2 )\n",
    "print(\"puissance totale à 100V\",P_tot_3 )"
   ]
  },
  {
   "cell_type": "markdown",
   "metadata": {},
   "source": [
    "# Formule ampirique de Steinmetz (ça marche bien)"
   ]
  },
  {
   "cell_type": "code",
   "execution_count": 19,
   "metadata": {},
   "outputs": [],
   "source": [
    "B_max_1 = np.log(0.63)\n",
    "B_max_2 = np.log(0.56)\n",
    "B_max_3 = np.log(0.46)\n",
    "\n",
    "B_max = np.array([B_max_1,B_max_2,B_max_3])\n",
    "Puissance_hysteresis = np.array([np.log(Puissance_perdu_1),np.log(Puissance_perdu_2),np.log(Puissance_perdu_3)])"
   ]
  },
  {
   "cell_type": "code",
   "execution_count": 20,
   "metadata": {},
   "outputs": [],
   "source": [
    "def fit_1(x,c,d):\n",
    "    return c*x+d\n",
    "\n",
    "pop_2,covop_2 = curve_fit(fit_1,B_max,Puissance_hysteresis)\n",
    "c_op_2,d_op_2 = pop_2\n",
    "\n",
    "Ph_opt = fit(B_max,c_op_2,d_op_2)"
   ]
  },
  {
   "cell_type": "code",
   "execution_count": 21,
   "metadata": {},
   "outputs": [
    {
     "data": {
      "application/vnd.jupyter.widget-view+json": {
       "model_id": "5a3370c0f6344eb4a91cc5407cc63114",
       "version_major": 2,
       "version_minor": 0
      },
      "text/plain": [
       "Canvas(toolbar=Toolbar(toolitems=[('Home', 'Reset original view', 'home', 'home'), ('Back', 'Back to previous …"
      ]
     },
     "metadata": {},
     "output_type": "display_data"
    }
   ],
   "source": [
    "import ipywidgets as widget\n",
    "%matplotlib widget\n",
    "\n",
    "plt.plot(B_max,Puissance_hysteresis,'+r',label = \"data\")\n",
    "plt.plot(B_max,Ph_opt,'-b',label = \"data\")\n",
    "\n",
    "plt.xlabel(\"ln(B_max)\")\n",
    "plt.ylabel(\"ln(Ph)\")\n",
    "plt.title(\"droite de Steinmetz\")\n",
    "\n",
    "plt.legend()\n",
    "plt.grid()"
   ]
  },
  {
   "cell_type": "code",
   "execution_count": 22,
   "metadata": {},
   "outputs": [
    {
     "name": "stdout",
     "output_type": "stream",
     "text": [
      "1.7381015231439045\n",
      "0.4646256471964746\n"
     ]
    }
   ],
   "source": [
    "print(c_op_2)\n",
    "\n",
    "print(np.exp(d_op_2-np.log(f)))"
   ]
  },
  {
   "cell_type": "code",
   "execution_count": null,
   "metadata": {},
   "outputs": [],
   "source": []
  }
 ],
 "metadata": {
  "kernelspec": {
   "display_name": "Python 3 (ipykernel)",
   "language": "python",
   "name": "python3"
  },
  "language_info": {
   "codemirror_mode": {
    "name": "ipython",
    "version": 3
   },
   "file_extension": ".py",
   "mimetype": "text/x-python",
   "name": "python",
   "nbconvert_exporter": "python",
   "pygments_lexer": "ipython3",
   "version": "3.9.12"
  }
 },
 "nbformat": 4,
 "nbformat_minor": 2
}
